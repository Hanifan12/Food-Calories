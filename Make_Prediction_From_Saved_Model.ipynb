{
  "nbformat": 4,
  "nbformat_minor": 0,
  "metadata": {
    "colab": {
      "name": "Make_Prediction_From_Saved_Model.ipynb",
      "provenance": [],
      "collapsed_sections": [],
      "toc_visible": true
    },
    "kernelspec": {
      "name": "python3",
      "display_name": "Python 3"
    },
    "language_info": {
      "name": "python"
    }
  },
  "cells": [
    {
      "cell_type": "markdown",
      "metadata": {
        "id": "nSFS0vzRT1aS"
      },
      "source": [
        "# **MAKE PREDICTION FROM SAVED MODEL**"
      ]
    },
    {
      "cell_type": "markdown",
      "metadata": {
        "id": "Uhotk-FGZE1U"
      },
      "source": [
        "# **Setup**\n",
        "\n",
        "Import libraries such as Tensorflow and other libraries are required :\n"
      ]
    },
    {
      "cell_type": "code",
      "metadata": {
        "id": "ufhbUki4HIgd"
      },
      "source": [
        "import os\n",
        "import numpy as np\n",
        "import tensorflow as tf\n",
        "import matplotlib.pyplot as plt\n",
        "from keras.models import load_model\n",
        "import cv2"
      ],
      "execution_count": null,
      "outputs": []
    },
    {
      "cell_type": "code",
      "metadata": {
        "id": "KeCXXHFPMVxZ"
      },
      "source": [
        "import pathlib\n",
        "from zipfile import ZipFile\n",
        "from tensorflow import keras\n",
        "from tensorflow.keras import layers\n",
        "from tensorflow.keras.models import Sequential\n",
        "from tensorflow.keras.preprocessing.image import ImageDataGenerator"
      ],
      "execution_count": null,
      "outputs": []
    },
    {
      "cell_type": "markdown",
      "metadata": {
        "id": "fFOdYz4zQCU7"
      },
      "source": [
        "# **Access File From Google Drive**\n",
        "\n",
        "Mounting Google Drive locally and copy path "
      ]
    },
    {
      "cell_type": "code",
      "metadata": {
        "id": "kk2HLsXkQAQo"
      },
      "source": [
        "from google.colab import drive\n",
        "drive.mount('/content/drive')"
      ],
      "execution_count": null,
      "outputs": []
    },
    {
      "cell_type": "code",
      "metadata": {
        "id": "QVPMbGXRM4Nz"
      },
      "source": [
        "path = '/content/drive/Shareddrives/Dataset/model_3class.h5'"
      ],
      "execution_count": null,
      "outputs": []
    },
    {
      "cell_type": "markdown",
      "metadata": {
        "id": "LYzl7xcuRMjs"
      },
      "source": [
        "# **Load Model**"
      ]
    },
    {
      "cell_type": "code",
      "metadata": {
        "id": "j0OVUTNuI-ac"
      },
      "source": [
        "model = load_model(path)"
      ],
      "execution_count": null,
      "outputs": []
    },
    {
      "cell_type": "code",
      "metadata": {
        "id": "jP6GnMK0VIa1"
      },
      "source": [
        "model.compile(optimizer='adam',\n",
        "              loss=tf.keras.losses.SparseCategoricalCrossentropy(from_logits=True),\n",
        "              metrics=['accuracy'])"
      ],
      "execution_count": null,
      "outputs": []
    },
    {
      "cell_type": "code",
      "metadata": {
        "id": "9dm1DAeHLSNW"
      },
      "source": [
        "model.summary()"
      ],
      "execution_count": null,
      "outputs": []
    },
    {
      "cell_type": "code",
      "metadata": {
        "id": "V7YeGS07TZVz"
      },
      "source": [
        "label = ['chicken_wings', 'ice_cream', 'spaghetti']"
      ],
      "execution_count": null,
      "outputs": []
    },
    {
      "cell_type": "markdown",
      "metadata": {
        "id": "7Kt2B5MmS1hr"
      },
      "source": [
        "# **Making Prediction**\n",
        "\n",
        "STEP 1 : Upload Image for Prediction "
      ]
    },
    {
      "cell_type": "code",
      "metadata": {
        "id": "X0WGwkThTeht"
      },
      "source": [
        "from google.colab import files\n",
        "im = files.upload()"
      ],
      "execution_count": null,
      "outputs": []
    },
    {
      "cell_type": "markdown",
      "metadata": {
        "id": "POSV3B91TIii"
      },
      "source": [
        "STEP 2 : Making Prediction\n",
        "\n",
        "Before that we import some libraries such as numpy and other libraries"
      ]
    },
    {
      "cell_type": "code",
      "metadata": {
        "id": "f8-akb8xThFu"
      },
      "source": [
        "## making prediction\n",
        "from PIL import Image\n",
        "import numpy as np\n",
        "from keras.preprocessing import image\n",
        "for fn in im.keys():\n",
        " \n",
        "  # predicting images\n",
        "  path = '/content/' + fn\n",
        "  img = image.load_img(path, target_size=(100, 100))\n",
        "  x = image.img_to_array(img)\n",
        "  x = np.expand_dims(x, axis=0)\n",
        "\n",
        "  images = np.vstack([x])\n",
        "  #images = images * (1/255)\n",
        "\n",
        "  #images = tf.reshape(images, shape=[1, 224, 224, 3])\n",
        "  \n",
        "  pred=model.predict(images)[0]\n",
        "  print(pred) "
      ],
      "execution_count": null,
      "outputs": []
    },
    {
      "cell_type": "markdown",
      "metadata": {
        "id": "CLQgJmhcTjh2"
      },
      "source": [
        "STEP 3 : Get the Prediction based on the max value "
      ]
    },
    {
      "cell_type": "code",
      "metadata": {
        "id": "T6A_mhChTom1"
      },
      "source": [
        "## get the prediction based on the max value\n",
        "max_value = np.max(pred)\n",
        "print(max_value)\n",
        "predic = np.argmax(pred)\n",
        "print(predic)\n",
        "\n",
        "print('Image = ' + label[predic])"
      ],
      "execution_count": null,
      "outputs": []
    },
    {
      "cell_type": "markdown",
      "metadata": {
        "id": "E2gvd2kGO0GY"
      },
      "source": [
        "Note : \n",
        "Ini file terbaru (6 juni 2021) <br> \n",
        "Hasil Array Prediksi (sum) = 1 <br>\n",
        "tapi masih ada minus <br>\n",
        "import yang kepake hapus aja"
      ]
    }
  ]
}